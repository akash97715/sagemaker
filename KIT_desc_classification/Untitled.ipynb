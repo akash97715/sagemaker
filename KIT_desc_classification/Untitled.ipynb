{
 "cells": [
  {
   "cell_type": "code",
   "execution_count": 8,
   "id": "c16a07fb",
   "metadata": {},
   "outputs": [],
   "source": [
    "from preprocess import *\n",
    "import os\n",
    "import ast\n",
    "import warnings\n",
    "from utils import *\n",
    "from collections import Counter\n",
    "warnings.filterwarnings(\"ignore\", category=DeprecationWarning)\n",
    "from transfer_learning import *\n",
    "from eval_NN import eval_avg_score\n",
    "import glob"
   ]
  },
  {
   "cell_type": "code",
   "execution_count": null,
   "id": "1da02e67",
   "metadata": {},
   "outputs": [],
   "source": []
  }
 ],
 "metadata": {
  "kernelspec": {
   "display_name": "cresemba",
   "language": "python",
   "name": "cresemba"
  },
  "language_info": {
   "codemirror_mode": {
    "name": "ipython",
    "version": 3
   },
   "file_extension": ".py",
   "mimetype": "text/x-python",
   "name": "python",
   "nbconvert_exporter": "python",
   "pygments_lexer": "ipython3",
   "version": "3.9.7"
  }
 },
 "nbformat": 4,
 "nbformat_minor": 5
}
